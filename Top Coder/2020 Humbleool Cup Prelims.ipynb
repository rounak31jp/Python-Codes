{
 "cells": [
  {
   "cell_type": "markdown",
   "metadata": {},
   "source": [
    "Level One -\n",
    "Scoring Judges\n",
    "\n",
    "https://community.topcoder.com/stat?c=problem_statement&pm=15980&rd=17851"
   ]
  },
  {
   "cell_type": "code",
   "execution_count": 9,
   "metadata": {},
   "outputs": [],
   "source": [
    "class ScoringJudges:\n",
    " \n",
    "  def overallScore(self, individualScores):\n",
    "    individualScores = list(individualScores)\n",
    "    individualScores.sort()\n",
    "    n = len(individualScores)\n",
    "    t = len(individualScores)//3\n",
    "    fhalf = 0\n",
    "    shalf = 0\n",
    "    mhalf = 0\n",
    "    for i in range(t):\n",
    "        fhalf += individualScores[i]\n",
    "        shalf += individualScores[n-i-1]\n",
    "    mhalf = sum(individualScores) - fhalf - shalf\n",
    "    fhalf /= float(t)\n",
    "    shalf /= float(t)\n",
    "    mhalf /= float(n - 2*t)\n",
    " \n",
    "    return fhalf + shalf + mhalf"
   ]
  },
  {
   "cell_type": "code",
   "execution_count": 21,
   "metadata": {},
   "outputs": [
    {
     "data": {
      "text/plain": [
       "19.5"
      ]
     },
     "execution_count": 21,
     "metadata": {},
     "output_type": "execute_result"
    }
   ],
   "source": [
    "object=ScoringJudges()\n",
    "object.overallScore({10,3,10,4,10,5,10,6,10,7,10,8,10,9})"
   ]
  },
  {
   "cell_type": "markdown",
   "metadata": {},
   "source": [
    "Level Two - NonSimilarTriangles\n",
    "\n",
    "https://community.topcoder.com/stat?c=problem_statement&pm=15947&rd=17851"
   ]
  },
  {
   "cell_type": "code",
   "execution_count": 27,
   "metadata": {},
   "outputs": [],
   "source": [
    "def gcd(a, b):\n",
    "    while b:\n",
    "        a, b = b, a % b\n",
    "    return a\n",
    " \n",
    "class NonSimilarTriangles():\n",
    "    def count(self, L):\n",
    "        L=sorted(L)\n",
    "        #print(L)\n",
    "        LEN=len(L)\n",
    "        T=set()\n",
    " \n",
    "        for i in range(LEN):\n",
    "            x=L[i]\n",
    "            for j in range(i+1,LEN):\n",
    "                y=L[j]\n",
    "                G=gcd(x,y)\n",
    "                for k in range(j+1,LEN):\n",
    "                    z=L[k]\n",
    "                    if z>=x+y:\n",
    "                        break\n",
    "                    GCD=gcd(G,z)\n",
    "                    #print(x,y,z,GCD)\n",
    "                    if (x//GCD,y//GCD,z//GCD) in T:\n",
    "                        continue\n",
    "                    else:\n",
    "                        T.add((x//GCD,y//GCD,z//GCD))\n",
    " \n",
    "        #print(T)\n",
    " \n",
    "        return len(T)"
   ]
  },
  {
   "cell_type": "code",
   "execution_count": 28,
   "metadata": {},
   "outputs": [
    {
     "data": {
      "text/plain": [
       "42"
      ]
     },
     "execution_count": 28,
     "metadata": {},
     "output_type": "execute_result"
    }
   ],
   "source": [
    "object1=NonSimilarTriangles()\n",
    "object1.count({10, 3, 10, 4, 10, 5, 10, 6, 10, 7, 10, 8, 10, 9})"
   ]
  },
  {
   "cell_type": "markdown",
   "metadata": {},
   "source": [
    "Level Three - CardDrawPoints\n",
    "\n",
    "https://community.topcoder.com/stat?c=problem_statement&pm=15978&rd=17851"
   ]
  },
  {
   "cell_type": "code",
   "execution_count": null,
   "metadata": {},
   "outputs": [],
   "source": []
  }
 ],
 "metadata": {
  "kernelspec": {
   "display_name": "Python 3",
   "language": "python",
   "name": "python3"
  },
  "language_info": {
   "codemirror_mode": {
    "name": "ipython",
    "version": 3
   },
   "file_extension": ".py",
   "mimetype": "text/x-python",
   "name": "python",
   "nbconvert_exporter": "python",
   "pygments_lexer": "ipython3",
   "version": "3.7.3"
  }
 },
 "nbformat": 4,
 "nbformat_minor": 2
}
